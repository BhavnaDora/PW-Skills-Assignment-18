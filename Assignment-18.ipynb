{
 "cells": [
  {
   "cell_type": "markdown",
   "id": "26142560-a956-4435-996e-eefe9e7d6d62",
   "metadata": {},
   "source": [
    "#### (1)-\n",
    "##### Flask is a framework or pythonic library with the help of which we can create APIs. \n",
    "##### Advantages-\n",
    "##### Flask is scalable. It is a microframework i.e. it can be used to grow tech projects incredibly quick\n",
    "##### Flask is simple and flexible. Certain parts can be altered or rearranged easily without making the structure collapse.\n",
    "##### Flask is easy to navigate, thus saving time\n",
    "##### Flask is lightweight. It doesn't require a large no. of extensions to function.\n",
    "##### It supports modular programming, where the functionality can be split into several interchangeable modules."
   ]
  },
  {
   "cell_type": "markdown",
   "id": "f8150718-295a-47d4-b5fe-e0346599e1cf",
   "metadata": {},
   "source": [
    "#### (2)-"
   ]
  },
  {
   "cell_type": "code",
   "execution_count": null,
   "id": "cc2e54a9-1944-4721-b71f-18ab7c5f0c87",
   "metadata": {},
   "outputs": [],
   "source": [
    "from flask import Flask\n",
    "app= Flask(__name__)\n",
    "\n",
    "@app.route(\"/\")\n",
    "def hello():\n",
    "    return \"Hello World!!\"\n",
    "\n",
    "if __name__==\"__main__\":\n",
    "    app.run(host= \"0.0.0.0\")"
   ]
  },
  {
   "cell_type": "markdown",
   "id": "bf67631b-c395-4e78-8809-8f5c6f8be139",
   "metadata": {},
   "source": [
    "![HELLO](hello.png)"
   ]
  },
  {
   "cell_type": "code",
   "execution_count": 2,
   "id": "e41a365f-46bb-45d7-8355-d9e110439e57",
   "metadata": {},
   "outputs": [
    {
     "data": {
      "text/html": [
       "<img src=\"hello.png\" width=\"100\" height=\"100\"/>"
      ],
      "text/plain": [
       "<IPython.core.display.Image object>"
      ]
     },
     "execution_count": 2,
     "metadata": {},
     "output_type": "execute_result"
    }
   ],
   "source": [
    "from IPython.display import Image\n",
    "Image(url=\"hello.png\", width=100, height=100)"
   ]
  },
  {
   "cell_type": "markdown",
   "id": "e254d78b-a4be-4c76-8e1f-58e959c37194",
   "metadata": {},
   "source": [
    "#### (3)-\n",
    "##### App routing in Flask means mapping the URLs to a specific function inside our sever that will handle the logic for that URL. This makes the function accesible globally.\n",
    "##### We use the app.route decorator to bind a function to the URL path.\n"
   ]
  },
  {
   "cell_type": "markdown",
   "id": "427de2ff-c0b1-42d3-876e-fe29fc89f7af",
   "metadata": {},
   "source": [
    "#### (4)-"
   ]
  },
  {
   "cell_type": "code",
   "execution_count": null,
   "id": "17eec893-4714-4b7b-8c0a-ad9476a44758",
   "metadata": {},
   "outputs": [],
   "source": [
    "from flask import Flask\n",
    "app= Flask(__name__)\n",
    "\n",
    "@app.route(\"/welcome\")\n",
    "def welcome():\n",
    "    return \"Welcome to ABC corporation\"\n",
    "\n",
    "@app.route(\"/\")\n",
    "def details():\n",
    "    return \"Company Name: ABC Corporation Location: India Contact Detail: 999-999-9999\"\n",
    "\n",
    "if __name__==\"__main__\":\n",
    "    app.run(host=\"0.0.0.0\")"
   ]
  },
  {
   "cell_type": "code",
   "execution_count": 3,
   "id": "5aded04e-0665-4681-90e5-c8e7287895fd",
   "metadata": {},
   "outputs": [
    {
     "data": {
      "text/html": [
       "<img src=\"welcome.png\" width=\"100\" height=\"100\"/>"
      ],
      "text/plain": [
       "<IPython.core.display.Image object>"
      ]
     },
     "execution_count": 3,
     "metadata": {},
     "output_type": "execute_result"
    }
   ],
   "source": [
    "from IPython.display import Image\n",
    "Image(url=\"welcome.png\", width=100, height=100)"
   ]
  },
  {
   "cell_type": "code",
   "execution_count": 4,
   "id": "17c12899-95ff-47b8-9cdf-bcfcb055fa9d",
   "metadata": {},
   "outputs": [
    {
     "data": {
      "text/html": [
       "<img src=\"details.png\" width=\"100\" height=\"100\"/>"
      ],
      "text/plain": [
       "<IPython.core.display.Image object>"
      ]
     },
     "execution_count": 4,
     "metadata": {},
     "output_type": "execute_result"
    }
   ],
   "source": [
    "from IPython.display import Image\n",
    "Image(url=\"details.png\", width=100, height=100)"
   ]
  },
  {
   "cell_type": "markdown",
   "id": "f449e82f-ccdc-47e6-b85f-bb19cee82512",
   "metadata": {},
   "source": [
    "#### (5)-\n",
    "##### url_for() function is used for dynamic URL building for a specific function. It accepts the name of the function as first argument and more or more keyword argumnets each corresponding to the variable part of the URL."
   ]
  },
  {
   "cell_type": "code",
   "execution_count": null,
   "id": "d776847c-72f9-40ec-9eb1-fa5ed2da549c",
   "metadata": {},
   "outputs": [],
   "source": [
    "from flask import Flask, redirect, url_for\n",
    "app= Flask(__name__)\n",
    "\n",
    "@app.route(\"/admin\")\n",
    "def hello_admin():\n",
    "    return \"Hello Admin\"\n",
    "\n",
    "@app.route(\"/guest\")\n",
    "def welcome_guest(guest):\n",
    "    return \"Hello {} as guest\".format(guest)\n",
    "\n",
    "@app.route(\"/user/<name>\")\n",
    "def user(name):\n",
    "    if name== \"admin\":\n",
    "        return redirect(url_for(\"hello_admin\"))\n",
    "    else:\n",
    "        return redirect(url_for(\"welcome_guest\",guest=name))\n",
    "\n",
    "if __name__==\"__main__\":\n",
    "    app.run(host=\"0.0.0.0\")"
   ]
  }
 ],
 "metadata": {
  "kernelspec": {
   "display_name": "Python 3 (ipykernel)",
   "language": "python",
   "name": "python3"
  },
  "language_info": {
   "codemirror_mode": {
    "name": "ipython",
    "version": 3
   },
   "file_extension": ".py",
   "mimetype": "text/x-python",
   "name": "python",
   "nbconvert_exporter": "python",
   "pygments_lexer": "ipython3",
   "version": "3.10.8"
  }
 },
 "nbformat": 4,
 "nbformat_minor": 5
}
